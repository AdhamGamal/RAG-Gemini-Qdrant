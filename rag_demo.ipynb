{
 "cells": [
  {
   "cell_type": "markdown",
   "id": "92c2ad8c",
   "metadata": {},
   "source": [
    "# RAG with Gemini and Qdrant: End-to-End Demo\n",
    "\n",
    "This notebook demonstrates a Retrieval-Augmented Generation (RAG) workflow using Gemini (LLM) and Qdrant (vector database). It covers document ingestion, chunking, embedding, vector storage, retrieval, and answer generation."
   ]
  },
  {
   "cell_type": "markdown",
   "id": "6b440700",
   "metadata": {},
   "source": [
    "## 1. Import Required Libraries\n",
    "We import all necessary libraries for the RAG workflow, including Qdrant client, dotenv, and our utility modules."
   ]
  },
  {
   "cell_type": "code",
   "execution_count": null,
   "id": "13bc63ff",
   "metadata": {},
   "outputs": [],
   "source": [
    "import os\n",
    "from dotenv import load_dotenv\n",
    "from qdrant_client import QdrantClient\n",
    "from qdrant_client.http.models import PointStruct\n",
    "from utils.chunk import chunk_text\n",
    "from utils.embedding import embed_texts\n",
    "from utils.gemini import ask_gemini\n",
    "\n",
    "load_dotenv()\n",
    "\n",
    "QDRANT_HOST = os.getenv(\"QDRANT_HOST\", \"localhost\")\n",
    "QDRANT_PORT = int(os.getenv(\"QDRANT_PORT\", 6333))\n",
    "QDRANT_COLLECTION = os.getenv(\"QDRANT_COLLECTION\", \"rag_docs\")\n",
    "GEMINI_API_KEY = os.getenv(\"GEMINI_API_KEY\")\n",
    "\n",
    "client = QdrantClient(host=QDRANT_HOST, port=QDRANT_PORT)"
   ]
  },
  {
   "cell_type": "markdown",
   "id": "db3c7bd7",
   "metadata": {},
   "source": [
    "## 2. Ingest a Text File\n",
    "Read a sample text file from the `data/` folder, chunk it, embed the chunks, and store them in Qdrant."
   ]
  },
  {
   "cell_type": "code",
   "execution_count": null,
   "id": "3eb3e1ed",
   "metadata": {},
   "outputs": [],
   "source": [
    "# Make sure you have a file at data/example.txt\n",
    "file_path = \"data/example.txt\"\n",
    "\n",
    "with open(file_path, 'r', encoding='utf-8') as f:\n",
    "    text = f.read()\n",
    "\n",
    "chunks = chunk_text(text)\n",
    "embeddings = embed_texts(chunks, api_key=GEMINI_API_KEY)\n",
    "points = [PointStruct(id=i, vector=emb, payload={\"text\": chunk}) for i, (emb, chunk) in enumerate(zip(embeddings, chunks))]\n",
    "client.upsert(collection_name=QDRANT_COLLECTION, points=points)\n",
    "print(f\"Ingested {len(points)} chunks into Qdrant.\")"
   ]
  },
  {
   "cell_type": "markdown",
   "id": "413c5173",
   "metadata": {},
   "source": [
    "## 3. Query the RAG System\n",
    "Ask a question, retrieve relevant chunks from Qdrant, and generate an answer using Gemini."
   ]
  },
  {
   "cell_type": "code",
   "execution_count": null,
   "id": "ec56da41",
   "metadata": {},
   "outputs": [],
   "source": [
    "question = \"What is this document about?\"  # Change as needed\n",
    "top_k = 5\n",
    "q_emb = embed_texts([question])[0]\n",
    "hits = client.search(collection_name=QDRANT_COLLECTION, query_vector=q_emb, limit=top_k)\n",
    "context = \"\\n\".join([hit.payload[\"text\"] for hit in hits])\n",
    "answer = ask_gemini(question, context)\n",
    "print(\"Context:\\n\", context)\n",
    "print(\"\\nAnswer:\\n\", answer)"
   ]
  },
  {
   "cell_type": "markdown",
   "id": "88515c46",
   "metadata": {},
   "source": [
    "## 4. (Optional) Inspect Chunks and Embeddings\n",
    "You can inspect the generated chunks and their embeddings for debugging or exploration."
   ]
  },
  {
   "cell_type": "code",
   "execution_count": null,
   "id": "fa5224ee",
   "metadata": {},
   "outputs": [],
   "source": [
    "# Show first 2 chunks and their embedding shape\n",
    "for i, chunk in enumerate(chunks[:2]):\n",
    "    print(f\"Chunk {i}: {chunk[:100]}...\")\n",
    "    print(f\"Embedding shape: {len(embeddings[i])}\")"
   ]
  }
 ],
 "metadata": {
  "language_info": {
   "name": "python"
  }
 },
 "nbformat": 4,
 "nbformat_minor": 5
}
