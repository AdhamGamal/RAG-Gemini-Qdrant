{
 "cells": [
  {
   "cell_type": "markdown",
   "id": "92c2ad8c",
   "metadata": {},
   "source": [
    "# 📘 RAG with Qdrant, Google Gemini, and LangChain\n",
    "\n",
    "This project demonstrates how to build a **Retrieval-Augmented Generation (RAG)** pipeline using **LangChain Expression Language (LCEL)**, **Qdrant** as a vector store, and **Google Gemini** as the LLM. It allows you to query knowledge from your own PDF documents, combining **retrieval** and **generation** in a clean, modular pipeline."
   ]
  },
  {
   "cell_type": "code",
   "execution_count": 1,
   "id": "e9851f8b",
   "metadata": {},
   "outputs": [],
   "source": [
    "import os\n",
    "from dotenv import load_dotenv\n",
    "\n",
    "# Load env\n",
    "load_dotenv()\n",
    "QDRANT_URL = os.getenv(\"QDRANT_URL\")\n",
    "QDRANT_API_KEY = os.getenv(\"QDRANT_API_KEY\")\n",
    "QDRANT_COLLECTION = os.getenv(\"QDRANT_COLLECTION\")\n",
    "GOOGLE_API_KEY = os.getenv(\"GOOGLE_API_KEY\")\n"
   ]
  },
  {
   "cell_type": "code",
   "execution_count": 2,
   "id": "13bc63ff",
   "metadata": {},
   "outputs": [
    {
     "name": "stdout",
     "output_type": "stream",
     "text": [
      "📚 Loaded and split 3 PDF(s) into 9 chunks\n",
      "ℹ️ Using existing Qdrant collection 'my_rag_collection'\n"
     ]
    },
    {
     "name": "stderr",
     "output_type": "stream",
     "text": [
      "WARNING: All log messages before absl::InitializeLog() is called are written to STDERR\n",
      "E0000 00:00:1759278229.102128   77990 alts_credentials.cc:93] ALTS creds ignored. Not running on GCP and untrusted ALTS is not enabled.\n"
     ]
    },
    {
     "name": "stdout",
     "output_type": "stream",
     "text": [
      "✅ Collection 'my_rag_collection' already has 72 vectors. Skipping ingestion.\n",
      "ℹ️ Using existing Qdrant collection 'my_rag_collection'\n",
      "\n",
      "[QUERY] What led to the fall of the Kingdom of Eldoria?\n"
     ]
    },
    {
     "name": "stderr",
     "output_type": "stream",
     "text": [
      "E0000 00:00:1759278230.630560   78062 alts_credentials.cc:93] ALTS creds ignored. Not running on GCP and untrusted ALTS is not enabled.\n"
     ]
    },
    {
     "name": "stdout",
     "output_type": "stream",
     "text": [
      "[ANSWER] The fall of Eldoria was caused by internal strife and civil war among rival noble houses, the rise of the Great Shadow War (an invasion by creatures of darkness), and the withdrawal of the dragons, who were once allies.\n",
      "\n",
      "[QUERY] How does the Starlink Quantum Drive create thrust?\n",
      "[ANSWER] The Starlink Quantum Drive creates a localized warp bubble by manipulating entangled states within the Quantum Resonance Chamber (QRC). Within this bubble, space contracts in front of the ship and expands behind it, propelling the craft forward without traditional thrust.\n",
      "\n",
      "[QUERY] What are the ingredients and effects of Crystal Soup from Zirconia?\n",
      "[ANSWER] The ingredients of Crystal Soup are ground luminous crystals and plasma herbs. Locals believe the soup enhances stamina and sharpens the senses.\n"
     ]
    }
   ],
   "source": [
    "from utils.loader import load_and_split_pdfs\n",
    "from utils.embeddings import get_embedding_model\n",
    "from utils.ingest import ingest_documents\n",
    "from utils.retriever import get_retriever, format_docs\n",
    "from utils.llm import get_llm_model\n",
    "from utils.prompt import get_rag_prompt, get_chat_rag_prompt\n",
    "from langchain.schema.runnable import RunnableLambda\n",
    "from langchain.schema import StrOutputParser\n",
    "from langchain_core.runnables import RunnablePassthrough\n",
    "\n",
    "# Documents\n",
    "PDFS = [\n",
    "    \"data/eldoria_history.pdf\",\n",
    "    \"data/quantum_drive_specs.pdf\",\n",
    "    \"data/zirconia_recipes.pdf\"\n",
    "]\n",
    "\n",
    "# Step 1: Load + split PDFs\n",
    "docs = load_and_split_pdfs(PDFS)\n",
    "\n",
    "# Step 2: Embeddings\n",
    "embedding_model = get_embedding_model(GOOGLE_API_KEY)\n",
    "\n",
    "# Step 3: Ingest into Qdrant\n",
    "ingest_documents(QDRANT_URL, QDRANT_API_KEY, QDRANT_COLLECTION, embedding_model, docs)\n",
    "\n",
    "# Step 4: Build retriever + LLM\n",
    "retriever = get_retriever(QDRANT_URL, QDRANT_API_KEY, QDRANT_COLLECTION, embedding_model, k=3)\n",
    "llm = get_llm_model(GOOGLE_API_KEY, model=\"models/gemini-flash-latest\")\n",
    "\n",
    "# Step 5: Prompt\n",
    "prompt = get_chat_rag_prompt()\n",
    "\n",
    "# Step 6: Build RAG pipeline with LCEL\n",
    "rag_chain = (\n",
    "    {\n",
    "        \"context\": retriever | RunnableLambda(format_docs),\n",
    "        \"question\": RunnablePassthrough()\n",
    "    }\n",
    "    | prompt\n",
    "    | llm\n",
    "    | StrOutputParser()\n",
    ")\n",
    "\n",
    "# Example queries\n",
    "queries = [\n",
    "    \"What led to the fall of the Kingdom of Eldoria?\",\n",
    "    \"How does the Starlink Quantum Drive create thrust?\",\n",
    "    \"What are the ingredients and effects of Crystal Soup from Zirconia?\"\n",
    "]\n",
    "\n",
    "for q in queries:\n",
    "    print(\"\\n[QUERY]\", q)\n",
    "    result = rag_chain.invoke(q)\n",
    "    print(\"[ANSWER]\", result)"
   ]
  },
  {
   "cell_type": "markdown",
   "id": "aa78ab4c",
   "metadata": {},
   "source": [
    "📚 Loaded and split 3 PDF(s) into 9 chunks\n",
    "ℹ️ Using existing Qdrant collection 'my_rag_collection'\n",
    "E0000 00:00:1759277752.255911   75207 alts_credentials.cc:93] ALTS creds ignored. Not running on GCP and untrusted ALTS is not enabled.\n",
    "✅ Ingested 9 documents into collection 'my_rag_collection'\n",
    "ℹ️ Using existing Qdrant collection 'my_rag_collection'\n",
    "\n",
    "[QUERY] What led to the fall of the Kingdom of Eldoria?\n",
    "E0000 00:00:1759277758.631478   75765 alts_credentials.cc:93] ALTS creds ignored. Not running on GCP and untrusted ALTS is not enabled.\n",
    "[ANSWER] The fall of Eldoria was caused by internal strife and civil war among rival noble houses, which began in the 14th century. This was further destabilized by the rise of the Great Shadow War, where creatures of darkness invaded the borderlands, and the withdrawal of dragons, who were once allies.\n",
    "\n",
    "[QUERY] How does the Starlink Quantum Drive create thrust?\n",
    "[ANSWER] The Starlink Quantum Drive creates a localized warp bubble by manipulating entangled states within the Quantum Resonance Chamber (QRC). Within this bubble, space contracts in front of the ship and expands behind it, propelling the craft forward without traditional thrust.\n",
    "\n",
    "[QUERY] What are the ingredients and effects of Crystal Soup from Zirconia?\n",
    "[ANSWER] The ingredients of Crystal Soup are ground luminous crystals and plasma herbs. Locals believe the soup enhances stamina and sharpens the senses.\n",
    "\n"
   ]
  }
 ],
 "metadata": {
  "kernelspec": {
   "display_name": ".venv (3.12.3)",
   "language": "python",
   "name": "python3"
  },
  "language_info": {
   "codemirror_mode": {
    "name": "ipython",
    "version": 3
   },
   "file_extension": ".py",
   "mimetype": "text/x-python",
   "name": "python",
   "nbconvert_exporter": "python",
   "pygments_lexer": "ipython3",
   "version": "3.12.3"
  }
 },
 "nbformat": 4,
 "nbformat_minor": 5
}
